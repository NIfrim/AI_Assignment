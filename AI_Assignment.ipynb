{
  "nbformat": 4,
  "nbformat_minor": 0,
  "metadata": {
    "colab": {
      "name": "AI_Assignment.ipynb",
      "provenance": []
    },
    "kernelspec": {
      "name": "python3",
      "display_name": "Python 3"
    }
  },
  "cells": [
    {
      "cell_type": "code",
      "metadata": {
        "id": "pNhcXt9vKV3c",
        "colab_type": "code",
        "outputId": "8e98290b-525d-45d4-bb5a-e42c930be685",
        "colab": {
          "base_uri": "https://localhost:8080/",
          "height": 153
        }
      },
      "source": [
        "!git clone -l -s git://github.com/NIfrim/AI_Assignment"
      ],
      "execution_count": 38,
      "outputs": [
        {
          "output_type": "stream",
          "text": [
            "Cloning into 'AI_Assignment'...\n",
            "warning: --local is ignored\n",
            "remote: Enumerating objects: 29, done.\u001b[K\n",
            "remote: Counting objects: 100% (29/29), done.\u001b[K\n",
            "remote: Compressing objects: 100% (19/19), done.\u001b[K\n",
            "remote: Total 29 (delta 1), reused 25 (delta 0), pack-reused 0\u001b[K\n",
            "Receiving objects: 100% (29/29), 31.32 MiB | 63.90 MiB/s, done.\n",
            "Resolving deltas: 100% (1/1), done.\n"
          ],
          "name": "stdout"
        }
      ]
    },
    {
      "cell_type": "code",
      "metadata": {
        "id": "YYg7WQupQzWn",
        "colab_type": "code",
        "colab": {}
      },
      "source": [
        "%cd AI_Assignment/\n",
        "%ls"
      ],
      "execution_count": 0,
      "outputs": []
    },
    {
      "cell_type": "code",
      "metadata": {
        "id": "SyTQLegsMY5_",
        "colab_type": "code",
        "colab": {}
      },
      "source": [
        "# silently unzip the images\n",
        "training_apples = !unzip datasets/training/Apple/Apple.zip -d datasets/training/Apple/images/\n",
        "training_bananas = !unzip datasets/training/Banana/Banana.zip -d datasets/training/Banana/images/"
      ],
      "execution_count": 0,
      "outputs": []
    },
    {
      "cell_type": "code",
      "metadata": {
        "id": "tJ2ClzUKRWMx",
        "colab_type": "code",
        "colab": {}
      },
      "source": [
        "import os\n",
        "import cv2\n",
        "\n",
        "training_images = []\n",
        "training_labels = []\n",
        "\n",
        "for path, dirs, files in os.walk(\"datasets/training/\"):\n",
        "  for f in files:\n",
        "    # get the directory path to the file\n",
        "    filename = os.path.join(path, f)\n",
        "    # get the file extension\n",
        "    ext = f.split('.')[1]\n",
        "    if ext == 'png':\n",
        "      # set training label based on dirname\n",
        "      label = path.split('/')[2]\n",
        "      training_labels.append(label)\n",
        "      # add training image\n",
        "      img = cv2.imread(filename)\n",
        "      training_images.append(img)"
      ],
      "execution_count": 0,
      "outputs": []
    },
    {
      "cell_type": "code",
      "metadata": {
        "id": "r3FqZl6VkFnP",
        "colab_type": "code",
        "colab": {
          "base_uri": "https://localhost:8080/",
          "height": 34
        },
        "outputId": "272742f5-f5d0-4a7e-90cf-4ef414bfa71c"
      },
      "source": [
        "len(training_images)"
      ],
      "execution_count": 119,
      "outputs": [
        {
          "output_type": "execute_result",
          "data": {
            "text/plain": [
              "195"
            ]
          },
          "metadata": {
            "tags": []
          },
          "execution_count": 119
        }
      ]
    },
    {
      "cell_type": "code",
      "metadata": {
        "id": "alYMNsESl4n9",
        "colab_type": "code",
        "colab": {
          "base_uri": "https://localhost:8080/",
          "height": 34
        },
        "outputId": "8997632a-f387-405c-d5e9-891d55db79ca"
      },
      "source": [
        "len(training_labels)"
      ],
      "execution_count": 120,
      "outputs": [
        {
          "output_type": "execute_result",
          "data": {
            "text/plain": [
              "195"
            ]
          },
          "metadata": {
            "tags": []
          },
          "execution_count": 120
        }
      ]
    },
    {
      "cell_type": "code",
      "metadata": {
        "id": "LyVD-Hijl-dg",
        "colab_type": "code",
        "colab": {}
      },
      "source": [
        "from google.colab.patches import cv2_imshow\n",
        "# check to see if images and labels are correct\n",
        "cv2_imshow(training_images[120])\n",
        "print(training_labels[120])"
      ],
      "execution_count": 0,
      "outputs": []
    },
    {
      "cell_type": "code",
      "metadata": {
        "id": "bbPsmjgWPToM",
        "colab_type": "code",
        "colab": {}
      },
      "source": [
        "rm -rf AI_Assignment/"
      ],
      "execution_count": 0,
      "outputs": []
    }
  ]
}